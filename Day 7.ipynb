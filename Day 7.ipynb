{
 "cells": [
  {
   "cell_type": "markdown",
   "id": "3943d999",
   "metadata": {},
   "source": [
    "## Date Processing in Python"
   ]
  },
  {
   "cell_type": "code",
   "execution_count": 10,
   "id": "60f34fd8",
   "metadata": {},
   "outputs": [
    {
     "name": "stdout",
     "output_type": "stream",
     "text": [
      "2023\n",
      "8\n",
      "15\n"
     ]
    }
   ],
   "source": [
    "import datetime\n",
    "\n",
    "d = datetime.datetime.now()\n",
    "print(d.year)\n",
    "print(d.month)\n",
    "print(d.day)"
   ]
  },
  {
   "cell_type": "code",
   "execution_count": 13,
   "id": "134c7fcc",
   "metadata": {},
   "outputs": [
    {
     "name": "stdout",
     "output_type": "stream",
     "text": [
      "117 days, 10:29:32.812962\n"
     ]
    }
   ],
   "source": [
    "past = datetime.datetime(2023, 4, 20)\n",
    "print(d - past)"
   ]
  },
  {
   "cell_type": "code",
   "execution_count": 27,
   "id": "216dc9af",
   "metadata": {},
   "outputs": [
    {
     "name": "stdout",
     "output_type": "stream",
     "text": [
      "Apr\n",
      "April\n",
      "Thu\n",
      "Thursday\n",
      "23\n",
      "2023\n",
      "AM\n",
      "110\n",
      "16\n",
      "Thu Apr 20 00:00:00 2023\n"
     ]
    }
   ],
   "source": [
    "# strftime\n",
    "print(past.strftime(\"%b\"))\n",
    "print(past.strftime(\"%B\"))\n",
    "print(past.strftime(\"%a\"))\n",
    "print(past.strftime(\"%A\"))\n",
    "print(past.strftime(\"%y\"))\n",
    "print(past.strftime(\"%Y\"))\n",
    "print(past.strftime(\"%p\"))\n",
    "print(past.strftime(\"%j\")) \n",
    "print(past.strftime(\"%U\"))\n",
    "print(past.strftime(\"%c\")) "
   ]
  },
  {
   "cell_type": "markdown",
   "id": "d87a65e5",
   "metadata": {},
   "source": [
    "### Regular Expression - RegEx\n",
    "-> A RegEx is a sequence of characters that forms a search pattern"
   ]
  },
  {
   "cell_type": "code",
   "execution_count": 34,
   "id": "32756ae5",
   "metadata": {},
   "outputs": [
    {
     "name": "stdout",
     "output_type": "stream",
     "text": [
      "The rain in Gwarinpa\n"
     ]
    }
   ],
   "source": [
    "import re\n",
    "\n",
    "txt = \"The rain in Gwarinpa\"\n",
    "x = re.search(\"^The.*Gwarinpa$\", txt)\n",
    "print(x.group())"
   ]
  },
  {
   "cell_type": "code",
   "execution_count": 37,
   "id": "fca8d098",
   "metadata": {},
   "outputs": [
    {
     "name": "stdout",
     "output_type": "stream",
     "text": [
      "['Daniel', 'Daniel']\n"
     ]
    }
   ],
   "source": [
    "txt2 = \"Williams Daniel Al'amin Daniel Marcus\"\n",
    "d = re.findall(\"Daniel\", txt2)\n",
    "print(d)"
   ]
  },
  {
   "cell_type": "code",
   "execution_count": 39,
   "id": "e878a47d",
   "metadata": {},
   "outputs": [
    {
     "name": "stdout",
     "output_type": "stream",
     "text": [
      "['olusegunwilliams2011@gmail.com', 'danielobi50@gmail.com', 'alamin419@gmail.com']\n"
     ]
    }
   ],
   "source": [
    "# Email Extractor\n",
    "import re \n",
    "\n",
    "text = \"We have 3 young men in Python Class namely: Williams Segun <olusegunwilliams2011@gmail.com>, Daniel Obi <danielobi50@gmail.com>, Al'amin Bala <alamin419@gmail.com>\"\n",
    "pattern = r\"\\b[A-Za-z0-9._%+-]+@[A-Za-z0-9.-]+\\.[A-Z|a-z]{2,5}\\b\"\n",
    "reg = re.findall(pattern, text)\n",
    "print(reg)"
   ]
  }
 ],
 "metadata": {
  "kernelspec": {
   "display_name": "Python 3 (ipykernel)",
   "language": "python",
   "name": "python3"
  },
  "language_info": {
   "codemirror_mode": {
    "name": "ipython",
    "version": 3
   },
   "file_extension": ".py",
   "mimetype": "text/x-python",
   "name": "python",
   "nbconvert_exporter": "python",
   "pygments_lexer": "ipython3",
   "version": "3.10.9"
  }
 },
 "nbformat": 4,
 "nbformat_minor": 5
}
