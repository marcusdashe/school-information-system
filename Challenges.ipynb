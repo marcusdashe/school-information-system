{
 "cells": [
  {
   "cell_type": "markdown",
   "id": "cf368fad",
   "metadata": {},
   "source": [
    "## Challenge One\n",
    "##### Create a class to represent a Movie with attributes like title, director and rating\n"
   ]
  },
  {
   "cell_type": "markdown",
   "id": "fcd03eb7",
   "metadata": {},
   "source": [
    "## Challenge Two\n",
    "##### Given a CSV file with product details (name, price and quantity), Create a Product class to manage the data\n"
   ]
  },
  {
   "cell_type": "markdown",
   "id": "09aa2641",
   "metadata": {},
   "source": [
    "## Challenge Three\n",
    "##### Implement a program that uses a Circle class to calculate the area and circumference of multiple circles\n"
   ]
  },
  {
   "cell_type": "code",
   "execution_count": 3,
   "id": "9b437e26",
   "metadata": {},
   "outputs": [],
   "source": [
    "import math\n",
    "\n",
    "class Circle:\n",
    "    def __init__(self, radius):\n",
    "        self.radius = radius\n",
    "        \n",
    "    def circumference(self):\n",
    "        print(math.pi)\n",
    "        return 2 * math.pi * self.radius\n",
    "    \n",
    "    def area(self):\n",
    "        return math.pi * pow(self.radius, 2)"
   ]
  },
  {
   "cell_type": "code",
   "execution_count": 4,
   "id": "d09df954",
   "metadata": {},
   "outputs": [
    {
     "name": "stdout",
     "output_type": "stream",
     "text": [
      "3.141592653589793\n",
      "14.451326206513047\n",
      "16.619025137490002\n"
     ]
    }
   ],
   "source": [
    "first_circle = Circle(2.3)\n",
    "print(first_circle.circumference())\n",
    "print(first_circle.area())"
   ]
  },
  {
   "cell_type": "markdown",
   "id": "d151ce27",
   "metadata": {},
   "source": [
    "## Challenge Four\n",
    "##### Write a Python program to copy the contents of one text file into another\n"
   ]
  },
  {
   "cell_type": "code",
   "execution_count": 7,
   "id": "ba4a3a42",
   "metadata": {
    "scrolled": true
   },
   "outputs": [],
   "source": [
    "with open(\"byteFile.mp4\", \"rb\") as in_file, open(\"movie.mp4\", \"wb\") as out_file:\n",
    "    for line in in_file:\n",
    "        out_file.write(line)"
   ]
  }
 ],
 "metadata": {
  "kernelspec": {
   "display_name": "Python 3 (ipykernel)",
   "language": "python",
   "name": "python3"
  },
  "language_info": {
   "codemirror_mode": {
    "name": "ipython",
    "version": 3
   },
   "file_extension": ".py",
   "mimetype": "text/x-python",
   "name": "python",
   "nbconvert_exporter": "python",
   "pygments_lexer": "ipython3",
   "version": "3.10.9"
  }
 },
 "nbformat": 4,
 "nbformat_minor": 5
}
