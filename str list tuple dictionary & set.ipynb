{
 "cells": [
  {
   "cell_type": "markdown",
   "id": "7d3af9b0",
   "metadata": {},
   "source": [
    "## Day 2 - Sequence"
   ]
  },
  {
   "cell_type": "markdown",
   "id": "9cab123b",
   "metadata": {},
   "source": [
    "##### Strings"
   ]
  },
  {
   "cell_type": "code",
   "execution_count": 1,
   "id": "c9118daf",
   "metadata": {},
   "outputs": [],
   "source": [
    "my_city = \"Jos\""
   ]
  },
  {
   "cell_type": "code",
   "execution_count": 2,
   "id": "29acec04",
   "metadata": {},
   "outputs": [
    {
     "name": "stdout",
     "output_type": "stream",
     "text": [
      "Jos\n"
     ]
    }
   ],
   "source": [
    "print(my_city)"
   ]
  },
  {
   "cell_type": "code",
   "execution_count": 6,
   "id": "ec1b9f49",
   "metadata": {},
   "outputs": [],
   "source": [
    "who_am_i = 'I\\'m a boy'"
   ]
  },
  {
   "cell_type": "code",
   "execution_count": 4,
   "id": "5e0e3fa9",
   "metadata": {},
   "outputs": [
    {
     "data": {
      "text/plain": [
       "\"I'm a boy\""
      ]
     },
     "execution_count": 4,
     "metadata": {},
     "output_type": "execute_result"
    }
   ],
   "source": [
    "who_am_i"
   ]
  },
  {
   "cell_type": "code",
   "execution_count": 8,
   "id": "ce933954",
   "metadata": {},
   "outputs": [],
   "source": [
    "story = \"\"\"\n",
    "    the quick brown fox\n",
    "    jumps over the lazy dog\n",
    "\"\"\""
   ]
  },
  {
   "cell_type": "code",
   "execution_count": 10,
   "id": "af72a65c",
   "metadata": {},
   "outputs": [
    {
     "name": "stdout",
     "output_type": "stream",
     "text": [
      "\n",
      "    the quick brown fox\n",
      "    jumps over the lazy dog\n",
      "\n"
     ]
    }
   ],
   "source": [
    "print(story)"
   ]
  },
  {
   "cell_type": "code",
   "execution_count": 13,
   "id": "bc2d6ac6",
   "metadata": {},
   "outputs": [],
   "source": [
    "def add(x, y):\n",
    "    \"\"\"\n",
    "        This function add two number together\n",
    "    \"\"\"\n",
    "    return x + y"
   ]
  },
  {
   "cell_type": "code",
   "execution_count": 16,
   "id": "e62b219d",
   "metadata": {},
   "outputs": [
    {
     "data": {
      "text/plain": [
       "'\\n        This function add two number together\\n    '"
      ]
     },
     "execution_count": 16,
     "metadata": {},
     "output_type": "execute_result"
    }
   ],
   "source": [
    "add.__doc__"
   ]
  },
  {
   "cell_type": "code",
   "execution_count": 15,
   "id": "ea3c7932",
   "metadata": {},
   "outputs": [
    {
     "data": {
      "text/plain": [
       "83"
      ]
     },
     "execution_count": 15,
     "metadata": {},
     "output_type": "execute_result"
    }
   ],
   "source": [
    "add(70, 13)"
   ]
  },
  {
   "cell_type": "code",
   "execution_count": 17,
   "id": "49666f62",
   "metadata": {},
   "outputs": [],
   "source": [
    "sister_name = \"Evelyn\""
   ]
  },
  {
   "cell_type": "code",
   "execution_count": 19,
   "id": "1b1fc32d",
   "metadata": {},
   "outputs": [],
   "source": [
    "greeting = f\"Good Morning {sister_name}\""
   ]
  },
  {
   "cell_type": "code",
   "execution_count": 20,
   "id": "8bb81eb7",
   "metadata": {},
   "outputs": [
    {
     "data": {
      "text/plain": [
       "'Good Morning Evelyn'"
      ]
     },
     "execution_count": 20,
     "metadata": {},
     "output_type": "execute_result"
    }
   ],
   "source": [
    "greeting"
   ]
  },
  {
   "cell_type": "code",
   "execution_count": 23,
   "id": "eda864c4",
   "metadata": {},
   "outputs": [],
   "source": [
    "calculation = f\"We have {365//7} weeks in a year\""
   ]
  },
  {
   "cell_type": "code",
   "execution_count": 24,
   "id": "b640e77a",
   "metadata": {},
   "outputs": [
    {
     "data": {
      "text/plain": [
       "'We have 52 weeks in a year'"
      ]
     },
     "execution_count": 24,
     "metadata": {},
     "output_type": "execute_result"
    }
   ],
   "source": [
    "calculation"
   ]
  },
  {
   "cell_type": "code",
   "execution_count": 35,
   "id": "11145732",
   "metadata": {},
   "outputs": [],
   "source": [
    "multi_line = r\"First line \\nSecond Line\""
   ]
  },
  {
   "cell_type": "code",
   "execution_count": 36,
   "id": "42f3f629",
   "metadata": {},
   "outputs": [
    {
     "name": "stdout",
     "output_type": "stream",
     "text": [
      "First line \\nSecond Line\n"
     ]
    }
   ],
   "source": [
    "print(multi_line)"
   ]
  },
  {
   "cell_type": "code",
   "execution_count": 40,
   "id": "80bdaef9",
   "metadata": {},
   "outputs": [],
   "source": [
    "file_path = r\"C:\\nuhu\\desktop\""
   ]
  },
  {
   "cell_type": "code",
   "execution_count": 41,
   "id": "b9fcf0fb",
   "metadata": {},
   "outputs": [
    {
     "name": "stdout",
     "output_type": "stream",
     "text": [
      "C:\\nuhu\\desktop\n"
     ]
    }
   ],
   "source": [
    "print(file_path)"
   ]
  },
  {
   "cell_type": "code",
   "execution_count": 52,
   "id": "4154dc47",
   "metadata": {},
   "outputs": [
    {
     "name": "stdout",
     "output_type": "stream",
     "text": [
      "<class 'str'>\n"
     ]
    },
    {
     "data": {
      "text/plain": [
       "3"
      ]
     },
     "execution_count": 52,
     "metadata": {},
     "output_type": "execute_result"
    }
   ],
   "source": [
    "dir(\"\")\n",
    "\n",
    "student = \"Williams and Al'amin\"\n",
    "len(student)\n",
    "print(type(student))\n",
    "student.center(50)\n",
    "student.count('a')\n",
    "\"Al'amin\" in student\n",
    "len(student.split())"
   ]
  },
  {
   "cell_type": "code",
   "execution_count": 56,
   "id": "9de4644f",
   "metadata": {},
   "outputs": [
    {
     "name": "stdout",
     "output_type": "stream",
     "text": [
      "<class 'int'>\n",
      "<class 'str'>\n"
     ]
    }
   ],
   "source": [
    "num_to_str = 7\n",
    "print(type(num_to_str))\n",
    "str_to_num = str(num_to_str)\n",
    "print(type(str_to_num))"
   ]
  },
  {
   "cell_type": "markdown",
   "id": "3cc06aac",
   "metadata": {},
   "source": [
    "### List"
   ]
  },
  {
   "cell_type": "code",
   "execution_count": 59,
   "id": "0c34b8ea",
   "metadata": {},
   "outputs": [
    {
     "name": "stdout",
     "output_type": "stream",
     "text": [
      "<class 'list'>\n",
      "4\n",
      "['Ajayi', 'Basira', 'Ugochukwu', 'Mallo']\n"
     ]
    }
   ],
   "source": [
    "my_classmates = [\"Ajayi\", \"Basira\", \"Ugochukwu\", \"Mallo\"]\n",
    "\n",
    "print(type(my_classmates))\n",
    "print(len(my_classmates))\n",
    "print(my_classmates)"
   ]
  },
  {
   "cell_type": "code",
   "execution_count": 61,
   "id": "9db9ec2b",
   "metadata": {},
   "outputs": [
    {
     "data": {
      "text/plain": [
       "list"
      ]
     },
     "execution_count": 61,
     "metadata": {},
     "output_type": "execute_result"
    }
   ],
   "source": [
    "empty_list = []\n",
    "type(empty_list)"
   ]
  },
  {
   "cell_type": "code",
   "execution_count": 63,
   "id": "110999de",
   "metadata": {},
   "outputs": [
    {
     "name": "stdout",
     "output_type": "stream",
     "text": [
      "<class 'list'>\n"
     ]
    }
   ],
   "source": [
    "list_constr = list()\n",
    "print(type(list_constr))"
   ]
  },
  {
   "cell_type": "code",
   "execution_count": 79,
   "id": "ecfa98c3",
   "metadata": {},
   "outputs": [
    {
     "name": "stdout",
     "output_type": "stream",
     "text": [
      "[22, 89, 2, 8, 7, 4, 1, 23]\n"
     ]
    }
   ],
   "source": [
    "num_list = list([23, 1, 4, 7, 8, 2, 89, 22])\n",
    "print(num_list[::-1])"
   ]
  },
  {
   "cell_type": "code",
   "execution_count": 87,
   "id": "a463228d",
   "metadata": {},
   "outputs": [
    {
     "name": "stdout",
     "output_type": "stream",
     "text": [
      "Abuja\n",
      "Berlin\n",
      "Cairo\n",
      "Dubai\n",
      "Hongkong\n",
      "London\n",
      "Tokyo\n"
     ]
    }
   ],
   "source": [
    "cities = [\"tokyo\", \"hongkong\", \"berlin\", \"dubai\", \"london\", \"abuja\", \"cairo\"]\n",
    "cities.sort()\n",
    "for city in cities:\n",
    "    print(city.capitalize())\n",
    "    \n"
   ]
  },
  {
   "cell_type": "code",
   "execution_count": 92,
   "id": "5407b205",
   "metadata": {},
   "outputs": [
    {
     "name": "stdout",
     "output_type": "stream",
     "text": [
      "range(1, 11)\n",
      "[1, 2, 3, 4, 5, 6, 7, 8, 9, 10]\n"
     ]
    }
   ],
   "source": [
    "one_to_ten = range(1, 11)\n",
    "print(one_to_ten)\n",
    "print(list(one_to_ten))"
   ]
  },
  {
   "cell_type": "code",
   "execution_count": 82,
   "id": "a3740231",
   "metadata": {},
   "outputs": [
    {
     "name": "stdout",
     "output_type": "stream",
     "text": [
      "['abuja', 'berlin', 'cairo', 'dubai', 'hongkong', 'london', 'tokyo']\n"
     ]
    }
   ],
   "source": [
    "cities.sort()\n",
    "print(cities)"
   ]
  },
  {
   "cell_type": "code",
   "execution_count": 89,
   "id": "649ef3ae",
   "metadata": {},
   "outputs": [
    {
     "name": "stdout",
     "output_type": "stream",
     "text": [
      "[0, 1, 2, 3, 4, 5, 6, 7, 8, 9]\n"
     ]
    }
   ],
   "source": [
    "list_comprehension = [i for i in range(10)]\n",
    "print(list_comprehension)"
   ]
  },
  {
   "cell_type": "markdown",
   "id": "d89ae11d",
   "metadata": {},
   "source": [
    "#### Tuple"
   ]
  },
  {
   "cell_type": "code",
   "execution_count": 93,
   "id": "6b03bcb9",
   "metadata": {},
   "outputs": [
    {
     "name": "stdout",
     "output_type": "stream",
     "text": [
      "<class 'tuple'>\n",
      "('Williams Olusegun', 12, 'Male', 'Ekiti', 'SS1')\n"
     ]
    }
   ],
   "source": [
    "bio_info = \"Williams Olusegun\", 12, \"Male\", \"Ekiti\", \"SS1\"\n",
    "print(type(bio_info))\n",
    "print(bio_info)\n"
   ]
  },
  {
   "cell_type": "code",
   "execution_count": 96,
   "id": "25c07f74",
   "metadata": {},
   "outputs": [
    {
     "ename": "TypeError",
     "evalue": "'tuple' object does not support item assignment",
     "output_type": "error",
     "traceback": [
      "\u001b[1;31m---------------------------------------------------------------------------\u001b[0m",
      "\u001b[1;31mTypeError\u001b[0m                                 Traceback (most recent call last)",
      "Cell \u001b[1;32mIn[96], line 1\u001b[0m\n\u001b[1;32m----> 1\u001b[0m bio_info[\u001b[38;5;241m0\u001b[39m] \u001b[38;5;241m=\u001b[39m \u001b[38;5;124m\"\u001b[39m\u001b[38;5;124mMarcus Dashe\u001b[39m\u001b[38;5;124m\"\u001b[39m\n",
      "\u001b[1;31mTypeError\u001b[0m: 'tuple' object does not support item assignment"
     ]
    }
   ],
   "source": [
    "bio_info[0] = \"Marcus Dashe\""
   ]
  },
  {
   "cell_type": "code",
   "execution_count": 99,
   "id": "0e857b27",
   "metadata": {},
   "outputs": [
    {
     "name": "stdout",
     "output_type": "stream",
     "text": [
      "123.567.87.01\n"
     ]
    }
   ],
   "source": [
    "another_tuple = (\"123.567.87.01\", 80)\n",
    "ip, _ = another_tuple\n",
    "\n",
    "print(ip)\n",
    "# print(port)"
   ]
  },
  {
   "cell_type": "code",
   "execution_count": 102,
   "id": "279488c2",
   "metadata": {},
   "outputs": [
    {
     "data": {
      "text/plain": [
       "tuple"
      ]
     },
     "execution_count": 102,
     "metadata": {},
     "output_type": "execute_result"
    }
   ],
   "source": [
    "singleton_tuple = (2,)\n",
    "type(singleton_tuple)"
   ]
  },
  {
   "cell_type": "markdown",
   "id": "90e08953",
   "metadata": {},
   "source": [
    "##### Set in Python"
   ]
  },
  {
   "cell_type": "code",
   "execution_count": 1,
   "id": "4d87c5d0",
   "metadata": {},
   "outputs": [
    {
     "name": "stdout",
     "output_type": "stream",
     "text": [
      "<class 'set'>\n"
     ]
    }
   ],
   "source": [
    "my_set = set()\n",
    "print(type(my_set))\n",
    "\n"
   ]
  },
  {
   "cell_type": "code",
   "execution_count": 5,
   "id": "c3ee7b4d",
   "metadata": {},
   "outputs": [
    {
     "name": "stdout",
     "output_type": "stream",
     "text": [
      "<class 'set'>\n",
      "<class 'dict'>\n",
      "35.76\n"
     ]
    }
   ],
   "source": [
    "my_set2 = {2, 4,}\n",
    "print(type(my_set2))\n",
    "my_dict = {\"latitude\": 35.76, \"longitude\": 80.67}\n",
    "print(type(my_dict))\n",
    "print(my_dict[\"latitude\"])"
   ]
  },
  {
   "cell_type": "code",
   "execution_count": 6,
   "id": "0872447c",
   "metadata": {},
   "outputs": [],
   "source": [
    "contact = {\"Daniel\": \"0804537281\", \"Williams\": \"09035563827\", \"Al'amin\": \"8492732728938922\"}"
   ]
  },
  {
   "cell_type": "code",
   "execution_count": 9,
   "id": "b413d583",
   "metadata": {},
   "outputs": [
    {
     "data": {
      "text/plain": [
       "'8492732728938922'"
      ]
     },
     "execution_count": 9,
     "metadata": {},
     "output_type": "execute_result"
    }
   ],
   "source": [
    "contact[\"Al'amin\"]"
   ]
  },
  {
   "cell_type": "code",
   "execution_count": 10,
   "id": "ed912594",
   "metadata": {},
   "outputs": [
    {
     "data": {
      "text/plain": [
       "'08034477604'"
      ]
     },
     "execution_count": 10,
     "metadata": {},
     "output_type": "execute_result"
    }
   ],
   "source": [
    "contact.get(\"Marcus\", \"08034477604\")"
   ]
  },
  {
   "cell_type": "code",
   "execution_count": 12,
   "id": "e766547b",
   "metadata": {},
   "outputs": [
    {
     "data": {
      "text/plain": [
       "dict_values(['0804537281', '09035563827', '8492732728938922'])"
      ]
     },
     "execution_count": 12,
     "metadata": {},
     "output_type": "execute_result"
    }
   ],
   "source": [
    "contact.keys()\n",
    "contact.values()"
   ]
  },
  {
   "cell_type": "code",
   "execution_count": 13,
   "id": "a7c03c82",
   "metadata": {},
   "outputs": [
    {
     "name": "stdout",
     "output_type": "stream",
     "text": [
      "The Zen of Python, by Tim Peters\n",
      "\n",
      "Beautiful is better than ugly.\n",
      "Explicit is better than implicit.\n",
      "Simple is better than complex.\n",
      "Complex is better than complicated.\n",
      "Flat is better than nested.\n",
      "Sparse is better than dense.\n",
      "Readability counts.\n",
      "Special cases aren't special enough to break the rules.\n",
      "Although practicality beats purity.\n",
      "Errors should never pass silently.\n",
      "Unless explicitly silenced.\n",
      "In the face of ambiguity, refuse the temptation to guess.\n",
      "There should be one-- and preferably only one --obvious way to do it.\n",
      "Although that way may not be obvious at first unless you're Dutch.\n",
      "Now is better than never.\n",
      "Although never is often better than *right* now.\n",
      "If the implementation is hard to explain, it's a bad idea.\n",
      "If the implementation is easy to explain, it may be a good idea.\n",
      "Namespaces are one honking great idea -- let's do more of those!\n"
     ]
    }
   ],
   "source": [
    "import this"
   ]
  },
  {
   "cell_type": "code",
   "execution_count": 21,
   "id": "9cc3d909",
   "metadata": {},
   "outputs": [
    {
     "name": "stdout",
     "output_type": "stream",
     "text": [
      "0123456789\n",
      "10000\n",
      "['0000', '0001', '0002', '0003', '0004', '0005', '0006', '0007', '0008', '0009', '0010', '0011', '0012', '0013', '0014', '0015', '0016', '0017', '0018', '0019', '0020', '0021', '0022', '0023', '0024', '0025', '0026', '0027', '0028', '0029', '0030', '0031', '0032', '0033', '0034', '0035', '0036', '0037', '0038', '0039', '0040', '0041', '0042', '0043', '0044', '0045', '0046', '0047', '0048', '0049']\n"
     ]
    },
    {
     "data": {
      "text/plain": [
       "True"
      ]
     },
     "execution_count": 21,
     "metadata": {},
     "output_type": "execute_result"
    }
   ],
   "source": [
    "import string\n",
    "\n",
    "print(string.digits)\n",
    "\n",
    "all_atm_pins = [f+s+t+ft for f in string.digits for s in string.digits for t in string.digits for ft in string.digits]\n",
    "print(len(all_atm_pins))\n",
    "print(all_atm_pins[:50])\n",
    "\"6739\" in all_atm_pins"
   ]
  },
  {
   "cell_type": "code",
   "execution_count": 17,
   "id": "1cc65e40",
   "metadata": {},
   "outputs": [
    {
     "data": {
      "text/plain": [
       "'12'"
      ]
     },
     "execution_count": 17,
     "metadata": {},
     "output_type": "execute_result"
    }
   ],
   "source": [
    "\"1\"+\"2\""
   ]
  },
  {
   "cell_type": "markdown",
   "id": "7c1739b7",
   "metadata": {},
   "source": [
    "### Flow Control in Python"
   ]
  },
  {
   "cell_type": "code",
   "execution_count": 27,
   "id": "68af0071",
   "metadata": {},
   "outputs": [
    {
     "name": "stdout",
     "output_type": "stream",
     "text": [
      "Condition is greater than 5\n"
     ]
    }
   ],
   "source": [
    "# If statement\n",
    "\n",
    "condition = 7\n",
    "\n",
    "if condition == 7:\n",
    "    print(\"Condition is greater than 5\")"
   ]
  },
  {
   "cell_type": "code",
   "execution_count": 34,
   "id": "4c5cb768",
   "metadata": {},
   "outputs": [
    {
     "name": "stdout",
     "output_type": "stream",
     "text": [
      "What is your JAMB score -> 160\n",
      "Polytechnique\n"
     ]
    }
   ],
   "source": [
    "jamb_aggregate = input(\"What is your JAMB score -> \")\n",
    "\n",
    "jamb_score_int = int(jamb_aggregate)\n",
    "\n",
    "if jamb_score_int >= 200:\n",
    "    print(\"University\")\n",
    "elif 150 <= jamb_score_int <= 199:\n",
    "    print(\"Polytechnique\")\n",
    "else:\n",
    "    print(\"Ooops you should write JAMB again\")"
   ]
  },
  {
   "cell_type": "code",
   "execution_count": 39,
   "id": "16075bbe",
   "metadata": {},
   "outputs": [
    {
     "data": {
      "text/plain": [
       "True"
      ]
     },
     "execution_count": 39,
     "metadata": {},
     "output_type": "execute_result"
    }
   ],
   "source": [
    "(8 % 2)  == 0"
   ]
  },
  {
   "cell_type": "code",
   "execution_count": 40,
   "id": "48972be2",
   "metadata": {},
   "outputs": [
    {
     "name": "stdout",
     "output_type": "stream",
     "text": [
      "G\n",
      "e\n",
      "n\n",
      "i\n",
      "u\n",
      "s\n",
      " \n",
      "A\n",
      "c\n",
      "a\n",
      "d\n",
      "e\n",
      "m\n",
      "y\n"
     ]
    }
   ],
   "source": [
    "for i in \"Genius Academy\":\n",
    "    print(i)"
   ]
  },
  {
   "cell_type": "code",
   "execution_count": 45,
   "id": "646b4e21",
   "metadata": {},
   "outputs": [
    {
     "name": "stdout",
     "output_type": "stream",
     "text": [
      "0\n",
      "5\n",
      "10\n",
      "15\n",
      "20\n",
      "25\n",
      "30\n",
      "35\n",
      "40\n",
      "45\n",
      "50\n",
      "55\n",
      "60\n",
      "65\n",
      "70\n",
      "75\n",
      "80\n",
      "85\n",
      "90\n",
      "95\n"
     ]
    }
   ],
   "source": [
    "for i in range(0, 100, 5):\n",
    "    print(i)"
   ]
  },
  {
   "cell_type": "code",
   "execution_count": 49,
   "id": "a5bd4709",
   "metadata": {},
   "outputs": [
    {
     "name": "stdout",
     "output_type": "stream",
     "text": [
      "32000\n",
      "22000\n",
      "27000\n"
     ]
    }
   ],
   "source": [
    "staff = {\"John\": 30000, \"Peter\": 20000, \"Abdul\": 25000}\n",
    "for key in staff:\n",
    "    print(staff[key] + 2000)"
   ]
  },
  {
   "cell_type": "code",
   "execution_count": 51,
   "id": "b63e1ff0",
   "metadata": {},
   "outputs": [
    {
     "name": "stdout",
     "output_type": "stream",
     "text": [
      "1\n",
      "3\n",
      "5\n",
      "7\n",
      "9\n",
      "11\n",
      "13\n",
      "15\n"
     ]
    }
   ],
   "source": [
    "for num in range(50):\n",
    "    if num % 2 != 0:\n",
    "        if num == 17: break\n",
    "        print(num)"
   ]
  },
  {
   "cell_type": "code",
   "execution_count": 1,
   "id": "f542c105",
   "metadata": {},
   "outputs": [
    {
     "name": "stdout",
     "output_type": "stream",
     "text": [
      "0\n",
      "1\n",
      "2\n",
      "3\n",
      "4\n",
      "5\n",
      "6\n",
      "7\n",
      "8\n",
      "9\n"
     ]
    }
   ],
   "source": [
    "counter = 0\n",
    "\n",
    "while counter < 10:\n",
    "    print(counter)\n",
    "    counter += 1"
   ]
  },
  {
   "cell_type": "markdown",
   "id": "727c33c6",
   "metadata": {},
   "source": [
    "## File Processing in Python"
   ]
  },
  {
   "cell_type": "code",
   "execution_count": 4,
   "id": "3f0dd69f",
   "metadata": {
    "scrolled": true
   },
   "outputs": [
    {
     "name": "stdout",
     "output_type": "stream",
     "text": [
      " Volume in drive C has no label.\n",
      " Volume Serial Number is 2C0E-96E3\n",
      "\n",
      " Directory of C:\\Users\\hp\\Desktop\\Untitled Folder\n",
      "\n",
      "08/08/2023  02:00 PM    <DIR>          .\n",
      "08/08/2023  01:59 PM    <DIR>          ..\n",
      "08/03/2023  09:41 AM    <DIR>          .ipynb_checkpoints\n",
      "08/01/2023  12:19 PM            13,959 Day 1.ipynb\n",
      "08/08/2023  01:58 PM             2,417 marcus.txt\n",
      "08/08/2023  02:00 PM            20,996 str list tuple dictionary & set.ipynb\n",
      "               3 File(s)         37,372 bytes\n",
      "               3 Dir(s)  15,653,031,936 bytes free\n"
     ]
    }
   ],
   "source": [
    "%ls"
   ]
  },
  {
   "cell_type": "code",
   "execution_count": 11,
   "id": "d89893d9",
   "metadata": {},
   "outputs": [],
   "source": [
    "my_file = open(\"marcus.txt\", \"w\")\n",
    "# print(type(my_file))\n",
    "# print(my_file.read(100))\n",
    "my_file.write(\"This text will replace the text that is already in the text file\")\n",
    "my_file.close()"
   ]
  },
  {
   "cell_type": "code",
   "execution_count": 9,
   "id": "4658f18b",
   "metadata": {},
   "outputs": [
    {
     "name": "stdout",
     "output_type": "stream",
     "text": [
      "b'\\xff\\xd8\\xff\\xe0\\x00\\x10JFIF'\n"
     ]
    }
   ],
   "source": [
    "my_byte_file = open(\"image.jpeg\", \"rb\")\n",
    "print(my_byte_file.read(10))"
   ]
  }
 ],
 "metadata": {
  "kernelspec": {
   "display_name": "Python 3 (ipykernel)",
   "language": "python",
   "name": "python3"
  },
  "language_info": {
   "codemirror_mode": {
    "name": "ipython",
    "version": 3
   },
   "file_extension": ".py",
   "mimetype": "text/x-python",
   "name": "python",
   "nbconvert_exporter": "python",
   "pygments_lexer": "ipython3",
   "version": "3.10.9"
  }
 },
 "nbformat": 4,
 "nbformat_minor": 5
}
