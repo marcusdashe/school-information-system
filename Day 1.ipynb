{
 "cells": [
  {
   "cell_type": "code",
   "execution_count": 2,
   "id": "361e18ea",
   "metadata": {},
   "outputs": [],
   "source": [
    "name = \"Daniel\""
   ]
  },
  {
   "cell_type": "code",
   "execution_count": 3,
   "id": "b04bd5b2",
   "metadata": {},
   "outputs": [
    {
     "name": "stdout",
     "output_type": "stream",
     "text": [
      "Daniel\n"
     ]
    }
   ],
   "source": [
    "print(name)"
   ]
  },
  {
   "cell_type": "code",
   "execution_count": 4,
   "id": "b6ce1ff9",
   "metadata": {},
   "outputs": [
    {
     "data": {
      "text/plain": [
       "str"
      ]
     },
     "execution_count": 4,
     "metadata": {},
     "output_type": "execute_result"
    }
   ],
   "source": [
    "type(name)"
   ]
  },
  {
   "cell_type": "code",
   "execution_count": 5,
   "id": "1f3eefb1",
   "metadata": {},
   "outputs": [],
   "source": [
    "age = 0"
   ]
  },
  {
   "cell_type": "code",
   "execution_count": 7,
   "id": "ea5a5904",
   "metadata": {},
   "outputs": [
    {
     "data": {
      "text/plain": [
       "int"
      ]
     },
     "execution_count": 7,
     "metadata": {},
     "output_type": "execute_result"
    }
   ],
   "source": [
    "type(age)"
   ]
  },
  {
   "cell_type": "code",
   "execution_count": 8,
   "id": "78ad59fd",
   "metadata": {},
   "outputs": [],
   "source": [
    "account_balance = 378.67"
   ]
  },
  {
   "cell_type": "code",
   "execution_count": 9,
   "id": "11e5d6c2",
   "metadata": {},
   "outputs": [
    {
     "data": {
      "text/plain": [
       "float"
      ]
     },
     "execution_count": 9,
     "metadata": {},
     "output_type": "execute_result"
    }
   ],
   "source": [
    "type(account_balance)"
   ]
  },
  {
   "cell_type": "code",
   "execution_count": 10,
   "id": "77c57eea",
   "metadata": {},
   "outputs": [],
   "source": [
    "is_male = True"
   ]
  },
  {
   "cell_type": "code",
   "execution_count": 11,
   "id": "987cda39",
   "metadata": {},
   "outputs": [
    {
     "data": {
      "text/plain": [
       "bool"
      ]
     },
     "execution_count": 11,
     "metadata": {},
     "output_type": "execute_result"
    }
   ],
   "source": [
    "type(is_male)"
   ]
  },
  {
   "cell_type": "code",
   "execution_count": 12,
   "id": "fc28a9ef",
   "metadata": {},
   "outputs": [],
   "source": [
    "empty_val = None"
   ]
  },
  {
   "cell_type": "code",
   "execution_count": 13,
   "id": "df3a3981",
   "metadata": {},
   "outputs": [
    {
     "data": {
      "text/plain": [
       "NoneType"
      ]
     },
     "execution_count": 13,
     "metadata": {},
     "output_type": "execute_result"
    }
   ],
   "source": [
    "type(empty_val)"
   ]
  },
  {
   "cell_type": "code",
   "execution_count": 14,
   "id": "0f2ea50f",
   "metadata": {},
   "outputs": [],
   "source": [
    "eomplex_num = 3j"
   ]
  },
  {
   "cell_type": "code",
   "execution_count": 15,
   "id": "50dbd9cf",
   "metadata": {},
   "outputs": [
    {
     "data": {
      "text/plain": [
       "complex"
      ]
     },
     "execution_count": 15,
     "metadata": {},
     "output_type": "execute_result"
    }
   ],
   "source": [
    "type(eomplex_num)"
   ]
  },
  {
   "cell_type": "code",
   "execution_count": 16,
   "id": "596de7dc",
   "metadata": {},
   "outputs": [],
   "source": [
    "byte_val = b\"643gyry89tj3nvneb]\""
   ]
  },
  {
   "cell_type": "code",
   "execution_count": 17,
   "id": "464ca460",
   "metadata": {},
   "outputs": [
    {
     "data": {
      "text/plain": [
       "bytes"
      ]
     },
     "execution_count": 17,
     "metadata": {},
     "output_type": "execute_result"
    }
   ],
   "source": [
    "type(byte_val)"
   ]
  },
  {
   "cell_type": "code",
   "execution_count": 18,
   "id": "43d577d7",
   "metadata": {},
   "outputs": [
    {
     "name": "stdout",
     "output_type": "stream",
     "text": [
      "Help on built-in function print in module builtins:\n",
      "\n",
      "print(...)\n",
      "    print(value, ..., sep=' ', end='\\n', file=sys.stdout, flush=False)\n",
      "    \n",
      "    Prints the values to a stream, or to sys.stdout by default.\n",
      "    Optional keyword arguments:\n",
      "    file:  a file-like object (stream); defaults to the current sys.stdout.\n",
      "    sep:   string inserted between values, default a space.\n",
      "    end:   string appended after the last value, default a newline.\n",
      "    flush: whether to forcibly flush the stream.\n",
      "\n"
     ]
    }
   ],
   "source": [
    "help(print)"
   ]
  },
  {
   "cell_type": "code",
   "execution_count": 19,
   "id": "17627c15",
   "metadata": {},
   "outputs": [],
   "source": [
    "player_name, club, salary = \"Ronaldo\", \"Man-Utd\", 56327623.84372"
   ]
  },
  {
   "cell_type": "code",
   "execution_count": 20,
   "id": "60af20a2",
   "metadata": {},
   "outputs": [
    {
     "name": "stdout",
     "output_type": "stream",
     "text": [
      "Ronaldo Man-Utd 56327623.84372\n"
     ]
    }
   ],
   "source": [
    "print(player_name, club, salary)"
   ]
  },
  {
   "cell_type": "code",
   "execution_count": 21,
   "id": "8f92da2b",
   "metadata": {},
   "outputs": [],
   "source": [
    "x, y = 2, 5"
   ]
  },
  {
   "cell_type": "code",
   "execution_count": 23,
   "id": "07534493",
   "metadata": {},
   "outputs": [
    {
     "name": "stdout",
     "output_type": "stream",
     "text": [
      "X => 2, Y => 5\n"
     ]
    }
   ],
   "source": [
    "print(f\"X => {x}, Y => {y}\")"
   ]
  },
  {
   "cell_type": "code",
   "execution_count": 24,
   "id": "9a1c20e0",
   "metadata": {},
   "outputs": [
    {
     "data": {
      "text/plain": [
       "2"
      ]
     },
     "execution_count": 24,
     "metadata": {},
     "output_type": "execute_result"
    }
   ],
   "source": [
    "x"
   ]
  },
  {
   "cell_type": "code",
   "execution_count": 25,
   "id": "93aecf91",
   "metadata": {},
   "outputs": [
    {
     "data": {
      "text/plain": [
       "5"
      ]
     },
     "execution_count": 25,
     "metadata": {},
     "output_type": "execute_result"
    }
   ],
   "source": [
    "y"
   ]
  },
  {
   "cell_type": "code",
   "execution_count": 26,
   "id": "332268b3",
   "metadata": {},
   "outputs": [],
   "source": [
    "x, y = y, x"
   ]
  },
  {
   "cell_type": "code",
   "execution_count": 27,
   "id": "03cce0e5",
   "metadata": {},
   "outputs": [
    {
     "data": {
      "text/plain": [
       "5"
      ]
     },
     "execution_count": 27,
     "metadata": {},
     "output_type": "execute_result"
    }
   ],
   "source": [
    "x"
   ]
  },
  {
   "cell_type": "code",
   "execution_count": 29,
   "id": "8888fc66",
   "metadata": {},
   "outputs": [
    {
     "name": "stdout",
     "output_type": "stream",
     "text": [
      "What is ur name[+] gs\n"
     ]
    }
   ],
   "source": [
    "name = input(\"What is ur name[+] \")"
   ]
  },
  {
   "cell_type": "code",
   "execution_count": 36,
   "id": "c874c7a9",
   "metadata": {},
   "outputs": [
    {
     "name": "stdout",
     "output_type": "stream",
     "text": [
      "What is ur JAMB aggregate => 39\n",
      "Oooops! Your aggregate is below cut-off point\n"
     ]
    }
   ],
   "source": [
    "jamb_score = input(\"What is ur JAMB aggregate => \")\n",
    "if int(jamb_score) >= 200:\n",
    "    print(\"Congrats You have been offered admission!\")\n",
    "else:\n",
    "    print(\"Oooops! Your aggregate is below cut-off point\")"
   ]
  },
  {
   "cell_type": "markdown",
   "id": "7984c215",
   "metadata": {},
   "source": [
    "### Operation, Operator, Operand"
   ]
  },
  {
   "cell_type": "code",
   "execution_count": 37,
   "id": "da682298",
   "metadata": {},
   "outputs": [
    {
     "data": {
      "text/plain": [
       "6"
      ]
     },
     "execution_count": 37,
     "metadata": {},
     "output_type": "execute_result"
    }
   ],
   "source": [
    "2 + 4 "
   ]
  },
  {
   "cell_type": "code",
   "execution_count": 38,
   "id": "cac4602d",
   "metadata": {},
   "outputs": [
    {
     "data": {
      "text/plain": [
       "16"
      ]
     },
     "execution_count": 38,
     "metadata": {},
     "output_type": "execute_result"
    }
   ],
   "source": [
    "4 ** 2"
   ]
  },
  {
   "cell_type": "code",
   "execution_count": 39,
   "id": "6cb87fa6",
   "metadata": {},
   "outputs": [
    {
     "data": {
      "text/plain": [
       "8"
      ]
     },
     "execution_count": 39,
     "metadata": {},
     "output_type": "execute_result"
    }
   ],
   "source": [
    "4 * 2"
   ]
  },
  {
   "cell_type": "code",
   "execution_count": 40,
   "id": "1a6c4fb8",
   "metadata": {},
   "outputs": [
    {
     "data": {
      "text/plain": [
       "False"
      ]
     },
     "execution_count": 40,
     "metadata": {},
     "output_type": "execute_result"
    }
   ],
   "source": [
    "3 > 10"
   ]
  },
  {
   "cell_type": "code",
   "execution_count": 41,
   "id": "065bdb91",
   "metadata": {},
   "outputs": [
    {
     "data": {
      "text/plain": [
       "'Hi Hi Hi '"
      ]
     },
     "execution_count": 41,
     "metadata": {},
     "output_type": "execute_result"
    }
   ],
   "source": [
    "\"Hi \" * 3"
   ]
  },
  {
   "cell_type": "code",
   "execution_count": 42,
   "id": "6abfaca0",
   "metadata": {},
   "outputs": [
    {
     "data": {
      "text/plain": [
       "'daniel obi'"
      ]
     },
     "execution_count": 42,
     "metadata": {},
     "output_type": "execute_result"
    }
   ],
   "source": [
    "\"daniel\" + \" obi\""
   ]
  },
  {
   "cell_type": "code",
   "execution_count": 43,
   "id": "8b40aa2e",
   "metadata": {},
   "outputs": [
    {
     "ename": "TypeError",
     "evalue": "can only concatenate str (not \"int\") to str",
     "output_type": "error",
     "traceback": [
      "\u001b[1;31m---------------------------------------------------------------------------\u001b[0m",
      "\u001b[1;31mTypeError\u001b[0m                                 Traceback (most recent call last)",
      "Cell \u001b[1;32mIn[43], line 1\u001b[0m\n\u001b[1;32m----> 1\u001b[0m \u001b[38;5;124;43m\"\u001b[39;49m\u001b[38;5;124;43mmarcus\u001b[39;49m\u001b[38;5;124;43m\"\u001b[39;49m\u001b[43m \u001b[49m\u001b[38;5;241;43m+\u001b[39;49m\u001b[43m \u001b[49m\u001b[38;5;241;43m7\u001b[39;49m\n",
      "\u001b[1;31mTypeError\u001b[0m: can only concatenate str (not \"int\") to str"
     ]
    }
   ],
   "source": [
    "\"marcus\" + 7"
   ]
  },
  {
   "cell_type": "code",
   "execution_count": 44,
   "id": "7c766dab",
   "metadata": {},
   "outputs": [
    {
     "data": {
      "text/plain": [
       "2"
      ]
     },
     "execution_count": 44,
     "metadata": {},
     "output_type": "execute_result"
    }
   ],
   "source": [
    "5 % 3"
   ]
  },
  {
   "cell_type": "code",
   "execution_count": 46,
   "id": "b2b00be8",
   "metadata": {},
   "outputs": [
    {
     "data": {
      "text/plain": [
       "0"
      ]
     },
     "execution_count": 46,
     "metadata": {},
     "output_type": "execute_result"
    }
   ],
   "source": [
    "4 - 4"
   ]
  },
  {
   "cell_type": "code",
   "execution_count": 48,
   "id": "1ba0a95b",
   "metadata": {},
   "outputs": [
    {
     "data": {
      "text/plain": [
       "3"
      ]
     },
     "execution_count": 48,
     "metadata": {},
     "output_type": "execute_result"
    }
   ],
   "source": [
    "6 // 2"
   ]
  },
  {
   "cell_type": "code",
   "execution_count": 49,
   "id": "593f2cc5",
   "metadata": {},
   "outputs": [],
   "source": [
    "my_num = 3"
   ]
  },
  {
   "cell_type": "code",
   "execution_count": 50,
   "id": "aa903edd",
   "metadata": {},
   "outputs": [],
   "source": [
    "my_num += 3 #my_num = my_num + 3"
   ]
  },
  {
   "cell_type": "code",
   "execution_count": 51,
   "id": "3c6b5ba0",
   "metadata": {},
   "outputs": [
    {
     "data": {
      "text/plain": [
       "6"
      ]
     },
     "execution_count": 51,
     "metadata": {},
     "output_type": "execute_result"
    }
   ],
   "source": [
    "my_num"
   ]
  },
  {
   "cell_type": "code",
   "execution_count": 52,
   "id": "c39bc9e3",
   "metadata": {},
   "outputs": [],
   "source": [
    "my_num //= 2"
   ]
  },
  {
   "cell_type": "code",
   "execution_count": 53,
   "id": "1f1c1d4a",
   "metadata": {},
   "outputs": [
    {
     "data": {
      "text/plain": [
       "3"
      ]
     },
     "execution_count": 53,
     "metadata": {},
     "output_type": "execute_result"
    }
   ],
   "source": [
    "my_num"
   ]
  },
  {
   "cell_type": "code",
   "execution_count": 54,
   "id": "774739ab",
   "metadata": {},
   "outputs": [
    {
     "data": {
      "text/plain": [
       "-5"
      ]
     },
     "execution_count": 54,
     "metadata": {},
     "output_type": "execute_result"
    }
   ],
   "source": [
    "-5"
   ]
  },
  {
   "cell_type": "code",
   "execution_count": 56,
   "id": "0ed49198",
   "metadata": {},
   "outputs": [
    {
     "data": {
      "text/plain": [
       "-1"
      ]
     },
     "execution_count": 56,
     "metadata": {},
     "output_type": "execute_result"
    }
   ],
   "source": [
    "4 + (-5)"
   ]
  },
  {
   "cell_type": "code",
   "execution_count": 58,
   "id": "9c11a7ad",
   "metadata": {},
   "outputs": [
    {
     "data": {
      "text/plain": [
       "10.0625"
      ]
     },
     "execution_count": 58,
     "metadata": {},
     "output_type": "execute_result"
    }
   ],
   "source": [
    "4**(2 - 4) + 10"
   ]
  }
 ],
 "metadata": {
  "kernelspec": {
   "display_name": "Python 3 (ipykernel)",
   "language": "python",
   "name": "python3"
  },
  "language_info": {
   "codemirror_mode": {
    "name": "ipython",
    "version": 3
   },
   "file_extension": ".py",
   "mimetype": "text/x-python",
   "name": "python",
   "nbconvert_exporter": "python",
   "pygments_lexer": "ipython3",
   "version": "3.10.9"
  }
 },
 "nbformat": 4,
 "nbformat_minor": 5
}
